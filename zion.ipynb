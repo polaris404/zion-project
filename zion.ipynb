{
  "nbformat": 4,
  "nbformat_minor": 0,
  "metadata": {
    "colab": {
      "name": "zion.ipynb",
      "provenance": [],
      "authorship_tag": "ABX9TyP8Mf5rihiInkZ07Up1Iwat",
      "include_colab_link": true
    },
    "kernelspec": {
      "name": "Python 3.8.6 32-bit",
      "display_name": "Python 3.8.6 32-bit",
      "metadata": {
        "interpreter": {
          "hash": "119780d604a001f761fca8c347eb10c2fc326d1ec91cc6dd3ae39e81c218ffe7"
        }
      }
    }
  },
  "cells": [
    {
      "cell_type": "markdown",
      "metadata": {
        "id": "view-in-github",
        "colab_type": "text"
      },
      "source": [
        "<a href=\"https://colab.research.google.com/github/spicymaterial/zion-project/blob/master/zion.ipynb\" target=\"_parent\"><img src=\"https://colab.research.google.com/assets/colab-badge.svg\" alt=\"Open In Colab\"/></a>"
      ]
    },
    {
      "cell_type": "markdown",
      "metadata": {
        "id": "Z1OCEM_qaW0S"
      },
      "source": [
        "Importing necessary libraries.\n"
      ]
    },
    {
      "cell_type": "code",
      "metadata": {
        "id": "UH83Vabdeu3m"
      },
      "source": [
        "import tweepy\n",
        "import json\n",
        "import textblob\n",
        "from vaderSentiment.vaderSentiment import SentimentIntensityAnalyzer\n",
        "import re\n",
        "import matplotlib.pyplot as plot\n",
        "import pandas as pd"
      ],
      "execution_count": null,
      "outputs": []
    },
    {
      "cell_type": "markdown",
      "metadata": {
        "id": "drdc8jwSaiaM"
      },
      "source": [
        "OAuth-2 Authorization from twitter"
      ]
    },
    {
      "cell_type": "code",
      "metadata": {
        "id": "2orBnjRVawIX"
      },
      "source": [
        "with open('credentials.json', 'r') as f:\n",
        "    cred = json.load(f)\n",
        "    \n",
        "consumer_key = cred['api_key']\n",
        "consumer_secret = cred['api_key_secret']\n",
        "auth = tweepy.AppAuthHandler(consumer_key, consumer_secret)\n",
        "api = tweepy.API(auth)"
      ],
      "execution_count": null,
      "outputs": []
    },
    {
      "cell_type": "markdown",
      "metadata": {
        "id": "Tnxyry-oa3cD"
      },
      "source": [
        "Defining function to fetch tweets(status) from the twitter server"
      ]
    },
    {
      "cell_type": "code",
      "metadata": {
        "id": "R9gDVoV6bUID"
      },
      "source": [
        "def byUsername():\n",
        "    user_name = input(\"Enter Username : \")\n",
        "    user = api.get_user(user_name)\n",
        "    timeline = api.user_timeline(user.id, tweet_mode = \"extended\")\n",
        "    return timeline\n",
        "\n",
        "def byQueries():\n",
        "    query = input(\"Enter search query : \")\n",
        "    num = input(\"Enter number of tweets : \")\n",
        "    searched_tweets = api.search(q = query, count = num)\n",
        "    ids = []\n",
        "    for tweet in searched_tweets:\n",
        "        ids.append(tweet.id)\n",
        "    tweets = []\n",
        "    for tweet_id in ids:\n",
        "        tweets.append(api.get_status(tweet_id, tweet_mode = \"extended\"))\n",
        "    return tweets"
      ],
      "execution_count": null,
      "outputs": []
    },
    {
      "cell_type": "markdown",
      "metadata": {
        "id": "J9I6YHEdbZl_"
      },
      "source": [
        "Defining `get_tweet_data` to get necessary attributes from status objefct"
      ]
    },
    {
      "cell_type": "code",
      "metadata": {
        "id": "r7P9nozcbn5A"
      },
      "source": [
        "def get_tweet_data(tweets):\n",
        "    header = ['id', 'author', 'full_text', 'retweet_count', 'favorite_count', 'Avg Polarity']\n",
        "    tweets_data = []\n",
        "    for tweet in tweets:\n",
        "        status_dict = vars(tweet)\n",
        "        tweet_data = {}\n",
        "        for key in status_dict.keys():\n",
        "            if key in header:\n",
        "                if key == 'author':\n",
        "                    tweet_data[key] = status_dict[key].screen_name\n",
        "                elif key == 'full_text':\n",
        "                    text = status_dict[key].replace(\"\\u2019\", \"'\")\n",
        "                    tweet_data[key] = text\n",
        "                else:\n",
        "                    tweet_data[key] = status_dict[key]\n",
        "        tweets_data.append(tweet_data)\n",
        "    return tweets_data\n"
      ],
      "execution_count": null,
      "outputs": []
    },
    {
      "cell_type": "markdown",
      "metadata": {
        "id": "gqeLcYeP9vqe"
      },
      "source": [
        "Extract hashtags from the tweet"
      ]
    },
    {
      "cell_type": "code",
      "metadata": {
        "id": "iOMkiPEb9woW"
      },
      "source": [
        "def get_hashtags(tweet):\n",
        "    text = tweet['full_text']\n",
        "    pattern = re.compile(r\"#(\\w+)\")\n",
        "    hashtags = re.findall(pattern, text)\n",
        "    return hashtags"
      ],
      "execution_count": null,
      "outputs": []
    },
    {
      "cell_type": "markdown",
      "metadata": {
        "id": "xS-Wgd5gbt6H"
      },
      "source": [
        "Getting a polarity of a tweet"
      ]
    },
    {
      "cell_type": "code",
      "metadata": {
        "id": "h8986-MbbxYu"
      },
      "source": [
        "def get_polarity(tweet):\n",
        "    text = tweet['full_text']\n",
        "    clean_text = ' '.join(re.sub(\"(@[A-Za-z0-9]+)|([^0-9A-Za-z \\t])|(\\w+:\\/\\/\\S+)\", \" \", text).split())\n",
        "    analyser = SentimentIntensityAnalyzer()\n",
        "    analysis = textblob.TextBlob(clean_text)\n",
        "    avg_pol = (analysis.sentiment.polarity + analyser.polarity_scores(clean_text)['compound'])/2\n",
        "    return avg_pol"
      ],
      "execution_count": null,
      "outputs": []
    },
    {
      "cell_type": "markdown",
      "metadata": {
        "id": "sUTJp41SCTkK"
      },
      "source": [
        "Display DataFrame"
      ]
    },
    {
      "cell_type": "code",
      "metadata": {
        "id": "kTiDB99_CXWS"
      },
      "source": [
        "def get_dataframe(data):\n",
        "    col = ['id', 'author', 'full_text', 'hashtag(s)', 'retweet_count', 'favorite_count', 'Avg Polarity']\n",
        "    df = pd.DataFrame(data = data, columns = col)\n",
        "    return df"
      ],
      "execution_count": null,
      "outputs": []
    },
    {
      "cell_type": "markdown",
      "metadata": {
        "id": "PRJwXnxo_yFr"
      },
      "source": [
        "Plot a graph of Polarity vs Author"
      ]
    },
    {
      "cell_type": "code",
      "metadata": {
        "id": "0kkNpmxzAIHv"
      },
      "source": [
        "def plot_graph(data):\n",
        "    x_axis = []\n",
        "    y_axis = []\n",
        "    for tweet in data:\n",
        "        x_axis.append(tweet['author'])\n",
        "        y_axis.append(tweet['Avg Polarity'])\n",
        "    plot.bar(x_axis, y_axis)\n",
        "    plot.show()"
      ],
      "execution_count": null,
      "outputs": []
    },
    {
      "cell_type": "markdown",
      "metadata": {
        "id": "LJhBqq0kcEvE"
      },
      "source": [
        "Getting the user input and showing the graph of polarity vs tweet author from the fetched tweets"
      ]
    },
    {
      "cell_type": "code",
      "metadata": {
        "id": "42iRyWaJcEWi"
      },
      "source": [
        "while True:\n",
        "    print(\"1. Get tweet data by username\")\n",
        "    print(\"2. Get tweet data by query\")\n",
        "    print(\"3. Exit\")\n",
        "    choice = input(\"Enter Choice : \")\n",
        "    if choice != '1' and (choice != '2' and choice != '3'):\n",
        "        print(\"Invalid Choice...\\n_________________________________________________________________\\n\")\n",
        "        continue\n",
        "    elif choice == '3':\n",
        "        break\n",
        "    elif choice == '1':\n",
        "        data = get_tweet_data(byUsername())\n",
        "    elif choice == '2':\n",
        "        data = get_tweet_data(byQueries())\n",
        "\n",
        "    for tweet in data:\n",
        "        tweet['Avg Polarity'] = get_polarity(tweet)\n",
        "        tweet['hashtag(s)'] = get_hashtags(tweet)\n",
        "\n",
        "    dataframe = get_dataframe(data)\n",
        "    display(dataframe)\n",
        "\n",
        "    plot_graph(data)\n",
        "\n",
        "    choice2 = input(\"Do you want to save the data(Y/N) : \")\n",
        "    if choice2.lower() == 'y':\n",
        "        file_name = input(\"Enter file name : \")\n",
        "        dataframe.to_csv(file_name +'.csv')\n",
        "        with open(file_name + '.json', 'w') as f:\n",
        "           f.write(json.dumps(data, indent = 4))\n",
        "        print(\"Data added to the file...\")\n",
        "    print(\"_________________________________________________________________\\n\")\n"
      ],
      "execution_count": null,
      "outputs": []
    }
  ]
}