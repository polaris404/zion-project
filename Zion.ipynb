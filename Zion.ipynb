{
  "nbformat": 4,
  "nbformat_minor": 0,
  "metadata": {
    "colab": {
      "name": "Zion.ipynb",
      "provenance": [],
      "authorship_tag": "ABX9TyO6+cIBbYYVOfNRsPUHbJe3",
      "include_colab_link": true
    },
    "kernelspec": {
      "name": "python3",
      "display_name": "Python 3"
    }
  },
  "cells": [
    {
      "cell_type": "markdown",
      "metadata": {
        "id": "view-in-github",
        "colab_type": "text"
      },
      "source": [
        "<a href=\"https://colab.research.google.com/github/spicymaterial/zion-project/blob/master/Zion.ipynb\" target=\"_parent\"><img src=\"https://colab.research.google.com/assets/colab-badge.svg\" alt=\"Open In Colab\"/></a>"
      ]
    },
    {
      "cell_type": "markdown",
      "metadata": {
        "id": "Z1OCEM_qaW0S"
      },
      "source": [
        "Importing necessary libraries.\n"
      ]
    },
    {
      "cell_type": "code",
      "metadata": {
        "id": "UH83Vabdeu3m"
      },
      "source": [
        "import tweepy\n",
        "import json\n",
        "import textblob\n",
        "import re\n",
        "import matplotlib.pyplot as plot\n",
        "import pandas as pd"
      ],
      "execution_count": 26,
      "outputs": []
    },
    {
      "cell_type": "markdown",
      "metadata": {
        "id": "drdc8jwSaiaM"
      },
      "source": [
        "OAuth-2 Authorization from twitter"
      ]
    },
    {
      "cell_type": "code",
      "metadata": {
        "id": "2orBnjRVawIX"
      },
      "source": [
        "with open('credentials.json', 'r') as f:\n",
        "    cred = json.load(f)\n",
        "    \n",
        "consumer_key = cred['api_key']\n",
        "consumer_secret = cred['api_key_secret']\n",
        "auth = tweepy.AppAuthHandler(consumer_key, consumer_secret)\n",
        "api = tweepy.API(auth)"
      ],
      "execution_count": 27,
      "outputs": []
    },
    {
      "cell_type": "markdown",
      "metadata": {
        "id": "Tnxyry-oa3cD"
      },
      "source": [
        "Defining function to fetch tweets(status) from the twitter server"
      ]
    },
    {
      "cell_type": "code",
      "metadata": {
        "id": "R9gDVoV6bUID"
      },
      "source": [
        "def byUsername():\n",
        "    user_name = input(\"Enter Username : \")\n",
        "    user = api.get_user(user_name)\n",
        "    timeline = api.user_timeline(user.id, tweet_mode = \"extended\")\n",
        "    return timeline\n",
        "\n",
        "def byQueries():\n",
        "    query = input(\"Enter search query : \")\n",
        "    num = input(\"Enter number of tweets : \")\n",
        "    searched_tweets = api.search(q = query, count = num)\n",
        "    ids = []\n",
        "    for tweet in searched_tweets:\n",
        "        ids.append(tweet.id)\n",
        "    tweets = []\n",
        "    for tweet_id in ids:\n",
        "        tweets.append(api.get_status(tweet_id, tweet_mode = \"extended\"))\n",
        "    return tweets"
      ],
      "execution_count": 28,
      "outputs": []
    },
    {
      "cell_type": "markdown",
      "metadata": {
        "id": "J9I6YHEdbZl_"
      },
      "source": [
        "Defining `get_tweet_data` to get necessary attributes from status objefct"
      ]
    },
    {
      "cell_type": "code",
      "metadata": {
        "id": "r7P9nozcbn5A"
      },
      "source": [
        "def get_tweet_data(tweets):\n",
        "    header = ['id', 'author', 'full_text', 'retweet_count', 'favorite_count', 'Polarity']\n",
        "    tweets_data = []\n",
        "    for tweet in tweets:\n",
        "        status_dict = vars(tweet)\n",
        "        tweet_data = {}\n",
        "        for key in status_dict.keys():\n",
        "            if key in header:\n",
        "                if key == 'author':\n",
        "                    tweet_data[key] = status_dict[key].screen_name\n",
        "                elif key == 'full_text':\n",
        "                    text = status_dict[key].replace(\"\\u2019\", \"'\")\n",
        "                    tweet_data[key] = text\n",
        "                else:\n",
        "                    tweet_data[key] = status_dict[key]\n",
        "        tweets_data.append(tweet_data)\n",
        "    return tweets_data\n"
      ],
      "execution_count": 29,
      "outputs": []
    },
    {
      "cell_type": "markdown",
      "metadata": {
        "id": "xS-Wgd5gbt6H"
      },
      "source": [
        "Getting a polarity of a tweet"
      ]
    },
    {
      "cell_type": "code",
      "metadata": {
        "id": "h8986-MbbxYu"
      },
      "source": [
        "def get_polarity(tweet):\n",
        "    text = tweet['full_text']\n",
        "    clean_text = ' '.join(re.sub(\"(@[A-Za-z0-9]+)|([^0-9A-Za-z \\t])|(\\w+:\\/\\/\\S+)\", \" \", text).split())\n",
        "    analysis = textblob.TextBlob(clean_text)\n",
        "    return analysis.sentiment.polarity"
      ],
      "execution_count": 30,
      "outputs": []
    },
    {
      "cell_type": "markdown",
      "metadata": {
        "id": "LJhBqq0kcEvE"
      },
      "source": [
        "Getting the user input and showing the graph of polarity vs tweet author from the fetched tweets"
      ]
    },
    {
      "cell_type": "code",
      "metadata": {
        "id": "42iRyWaJcEWi",
        "outputId": "431502af-bab0-4571-c260-ddab9f6514c8",
        "colab": {
          "base_uri": "https://localhost:8080/",
          "height": 1000
        }
      },
      "source": [
        "while True:\n",
        "    x_axis = []\n",
        "    y_axis = []\n",
        "    print(\"1. Get tweet data by username\")\n",
        "    print(\"2. Get tweet data by query\")\n",
        "    print(\"3. Exit\")\n",
        "    choice = input(\"Enter Choice : \")\n",
        "    if choice != '1' and (choice != '2' and choice != '3'):\n",
        "        print(\"Invalid Choice...\\n_________________________________________________________________\\n\")\n",
        "        continue\n",
        "    elif choice == '3':\n",
        "        break\n",
        "    elif choice == '1':\n",
        "        data = get_tweet_data(byUsername())\n",
        "        for tweet in data:\n",
        "            tweet['Polarity'] = get_polarity(tweet)\n",
        "            x_axis.append(tweet['author'])\n",
        "            y_axis.append(get_polarity(tweet))\n",
        "    elif choice == '2':\n",
        "        data = get_tweet_data(byQueries())\n",
        "        for tweet in data:\n",
        "            tweet['Polarity'] = get_polarity(tweet)\n",
        "            x_axis.append(tweet['author'])\n",
        "            y_axis.append(get_polarity(tweet))\n",
        "    col = ['id', 'author', 'full_text', 'retweet_count', 'favorite_count', 'Polarity']\n",
        "    df = pd.DataFrame(data = data, columns = col)\n",
        "    display(df)\n",
        "    \n",
        "    #fig = plot.figure()\n",
        "    #ax = fig.add_axes([0, 0, 1, 1])\n",
        "    #plot.show()\n",
        "    plot.bar(x_axis, y_axis)\n",
        "    plot.show()    \n",
        "    \n",
        "    choice2 = input(\"Do you want to save the data(Y/N) : \")\n",
        "    if choice2.lower() == 'y':\n",
        "        file_name = input(\"Enter file name : \")\n",
        "        df.to_csv(file_name +'.csv')\n",
        "        with open(file_name + '.json', 'w') as f:\n",
        "           f.write(json.dumps(data, indent = 4))\n",
        "        print(\"Data added to the file...\")\n",
        "    print(\"_________________________________________________________________\\n\")\n"
      ],
      "execution_count": 31,
      "outputs": [
        {
          "output_type": "stream",
          "text": [
            "1. Get tweet data by username\n",
            "2. Get tweet data by query\n",
            "3. Exit\n",
            "Enter Choice : 2\n",
            "Enter search query : elonmusk\n",
            "Enter number of tweets : 5\n"
          ],
          "name": "stdout"
        },
        {
          "output_type": "display_data",
          "data": {
            "text/html": [
              "<div>\n",
              "<style scoped>\n",
              "    .dataframe tbody tr th:only-of-type {\n",
              "        vertical-align: middle;\n",
              "    }\n",
              "\n",
              "    .dataframe tbody tr th {\n",
              "        vertical-align: top;\n",
              "    }\n",
              "\n",
              "    .dataframe thead th {\n",
              "        text-align: right;\n",
              "    }\n",
              "</style>\n",
              "<table border=\"1\" class=\"dataframe\">\n",
              "  <thead>\n",
              "    <tr style=\"text-align: right;\">\n",
              "      <th></th>\n",
              "      <th>id</th>\n",
              "      <th>author</th>\n",
              "      <th>full_text</th>\n",
              "      <th>retweet_count</th>\n",
              "      <th>favorite_count</th>\n",
              "      <th>Polarity</th>\n",
              "    </tr>\n",
              "  </thead>\n",
              "  <tbody>\n",
              "    <tr>\n",
              "      <th>0</th>\n",
              "      <td>1313005372270170112</td>\n",
              "      <td>Zorraug</td>\n",
              "      <td>@elonmusk Even Funny Valentine can't escape gr...</td>\n",
              "      <td>0</td>\n",
              "      <td>0</td>\n",
              "      <td>0.041667</td>\n",
              "    </tr>\n",
              "    <tr>\n",
              "      <th>1</th>\n",
              "      <td>1313005344164110336</td>\n",
              "      <td>OptaHos</td>\n",
              "      <td>@zakariannn @elonmusk So is Armenia. Shut up.</td>\n",
              "      <td>0</td>\n",
              "      <td>0</td>\n",
              "      <td>0.000000</td>\n",
              "    </tr>\n",
              "    <tr>\n",
              "      <th>2</th>\n",
              "      <td>1313005332579450880</td>\n",
              "      <td>tanveershahbuk1</td>\n",
              "      <td>RT @OwenSparks_: “It is financially *insane* t...</td>\n",
              "      <td>223</td>\n",
              "      <td>0</td>\n",
              "      <td>-0.562500</td>\n",
              "    </tr>\n",
              "    <tr>\n",
              "      <th>3</th>\n",
              "      <td>1313005332021600256</td>\n",
              "      <td>tga_tgoodfellow</td>\n",
              "      <td>RT @OwenSparks_: “It is financially *insane* t...</td>\n",
              "      <td>223</td>\n",
              "      <td>0</td>\n",
              "      <td>-0.562500</td>\n",
              "    </tr>\n",
              "    <tr>\n",
              "      <th>4</th>\n",
              "      <td>1313005329056112642</td>\n",
              "      <td>BombayFables</td>\n",
              "      <td>RT @Nawazuddin_S: P̶r̶i̶m̶i̶t̶i̶v̶e̶ minds thi...</td>\n",
              "      <td>61</td>\n",
              "      <td>0</td>\n",
              "      <td>0.000000</td>\n",
              "    </tr>\n",
              "  </tbody>\n",
              "</table>\n",
              "</div>"
            ],
            "text/plain": [
              "                    id           author  ... favorite_count  Polarity\n",
              "0  1313005372270170112          Zorraug  ...              0  0.041667\n",
              "1  1313005344164110336          OptaHos  ...              0  0.000000\n",
              "2  1313005332579450880  tanveershahbuk1  ...              0 -0.562500\n",
              "3  1313005332021600256  tga_tgoodfellow  ...              0 -0.562500\n",
              "4  1313005329056112642     BombayFables  ...              0  0.000000\n",
              "\n",
              "[5 rows x 6 columns]"
            ]
          },
          "metadata": {
            "tags": []
          }
        },
        {
          "output_type": "display_data",
          "data": {
            "image/png": "[encoded data removed]",
            "text/plain": [
              "<Figure size 432x288 with 1 Axes>"
            ]
          },
          "metadata": {
            "tags": [],
            "needs_background": "light"
          }
        },
        {
          "output_type": "stream",
          "text": [
            "Do you want to save the data(Y/N) : n\n",
            "_________________________________________________________________\n",
            "\n",
            "1. Get tweet data by username\n",
            "2. Get tweet data by query\n",
            "3. Exit\n",
            "Enter Choice : 1\n",
            "Enter Username : elonmusk\n"
          ],
          "name": "stdout"
        },
        {
          "output_type": "display_data",
          "data": {
            "text/html": [
              "<div>\n",
              "<style scoped>\n",
              "    .dataframe tbody tr th:only-of-type {\n",
              "        vertical-align: middle;\n",
              "    }\n",
              "\n",
              "    .dataframe tbody tr th {\n",
              "        vertical-align: top;\n",
              "    }\n",
              "\n",
              "    .dataframe thead th {\n",
              "        text-align: right;\n",
              "    }\n",
              "</style>\n",
              "<table border=\"1\" class=\"dataframe\">\n",
              "  <thead>\n",
              "    <tr style=\"text-align: right;\">\n",
              "      <th></th>\n",
              "      <th>id</th>\n",
              "      <th>author</th>\n",
              "      <th>full_text</th>\n",
              "      <th>retweet_count</th>\n",
              "      <th>favorite_count</th>\n",
              "      <th>Polarity</th>\n",
              "    </tr>\n",
              "  </thead>\n",
              "  <tbody>\n",
              "    <tr>\n",
              "      <th>0</th>\n",
              "      <td>1312760295228547073</td>\n",
              "      <td>elonmusk</td>\n",
              "      <td>New SpaceX droneship will be called “A Shortfa...</td>\n",
              "      <td>3356</td>\n",
              "      <td>59239</td>\n",
              "      <td>0.136364</td>\n",
              "    </tr>\n",
              "    <tr>\n",
              "      <th>1</th>\n",
              "      <td>1312755779951226880</td>\n",
              "      <td>elonmusk</td>\n",
              "      <td>Nothing can escape gravity, not even black hol...</td>\n",
              "      <td>10216</td>\n",
              "      <td>156371</td>\n",
              "      <td>0.016667</td>\n",
              "    </tr>\n",
              "    <tr>\n",
              "      <th>2</th>\n",
              "      <td>1312749532933877761</td>\n",
              "      <td>elonmusk</td>\n",
              "      <td>@ID_AA_Carmack Would be cool to put yourself i...</td>\n",
              "      <td>207</td>\n",
              "      <td>6138</td>\n",
              "      <td>0.350000</td>\n",
              "    </tr>\n",
              "    <tr>\n",
              "      <th>3</th>\n",
              "      <td>1312591262747299841</td>\n",
              "      <td>elonmusk</td>\n",
              "      <td>@Model3teslaJ Coming soon</td>\n",
              "      <td>66</td>\n",
              "      <td>1172</td>\n",
              "      <td>0.000000</td>\n",
              "    </tr>\n",
              "    <tr>\n",
              "      <th>4</th>\n",
              "      <td>1312545997499719680</td>\n",
              "      <td>elonmusk</td>\n",
              "      <td>Call of Booty, great game</td>\n",
              "      <td>58001</td>\n",
              "      <td>474128</td>\n",
              "      <td>0.200000</td>\n",
              "    </tr>\n",
              "    <tr>\n",
              "      <th>5</th>\n",
              "      <td>1312544132380778496</td>\n",
              "      <td>elonmusk</td>\n",
              "      <td>https://t.co/HyfszSrm6m</td>\n",
              "      <td>11997</td>\n",
              "      <td>167800</td>\n",
              "      <td>0.000000</td>\n",
              "    </tr>\n",
              "    <tr>\n",
              "      <th>6</th>\n",
              "      <td>1312253928667410432</td>\n",
              "      <td>elonmusk</td>\n",
              "      <td>@teslaownersSV @SpaceX Vector-space bird's eye...</td>\n",
              "      <td>252</td>\n",
              "      <td>3335</td>\n",
              "      <td>0.000000</td>\n",
              "    </tr>\n",
              "    <tr>\n",
              "      <th>7</th>\n",
              "      <td>1312252573575860226</td>\n",
              "      <td>elonmusk</td>\n",
              "      <td>@PPathole @SpaceX Unexpected pressure rise in ...</td>\n",
              "      <td>139</td>\n",
              "      <td>2491</td>\n",
              "      <td>0.100000</td>\n",
              "    </tr>\n",
              "    <tr>\n",
              "      <th>8</th>\n",
              "      <td>1312251818731167744</td>\n",
              "      <td>elonmusk</td>\n",
              "      <td>@Erdayastronaut @SpaceX All of that and more. ...</td>\n",
              "      <td>260</td>\n",
              "      <td>5477</td>\n",
              "      <td>0.187500</td>\n",
              "    </tr>\n",
              "    <tr>\n",
              "      <th>9</th>\n",
              "      <td>1312250543553744896</td>\n",
              "      <td>elonmusk</td>\n",
              "      <td>@alandail @SpaceX Exactly</td>\n",
              "      <td>40</td>\n",
              "      <td>1438</td>\n",
              "      <td>0.250000</td>\n",
              "    </tr>\n",
              "    <tr>\n",
              "      <th>10</th>\n",
              "      <td>1312249542125842434</td>\n",
              "      <td>elonmusk</td>\n",
              "      <td>@SpaceX We will need to make a lot of improvem...</td>\n",
              "      <td>921</td>\n",
              "      <td>23612</td>\n",
              "      <td>0.000000</td>\n",
              "    </tr>\n",
              "    <tr>\n",
              "      <th>11</th>\n",
              "      <td>1312175510244356096</td>\n",
              "      <td>elonmusk</td>\n",
              "      <td>@lexfridman I agree with Lex</td>\n",
              "      <td>2370</td>\n",
              "      <td>72109</td>\n",
              "      <td>0.000000</td>\n",
              "    </tr>\n",
              "    <tr>\n",
              "      <th>12</th>\n",
              "      <td>1312092581933641729</td>\n",
              "      <td>elonmusk</td>\n",
              "      <td>@Mike94160775 @Tesla @ElectrekCo @Teslarati Gl...</td>\n",
              "      <td>53</td>\n",
              "      <td>1984</td>\n",
              "      <td>0.500000</td>\n",
              "    </tr>\n",
              "    <tr>\n",
              "      <th>13</th>\n",
              "      <td>1312085524572639233</td>\n",
              "      <td>elonmusk</td>\n",
              "      <td>@Sofiaan @Tesla Haha</td>\n",
              "      <td>266</td>\n",
              "      <td>14302</td>\n",
              "      <td>0.200000</td>\n",
              "    </tr>\n",
              "    <tr>\n",
              "      <th>14</th>\n",
              "      <td>1311932353879646209</td>\n",
              "      <td>elonmusk</td>\n",
              "      <td>@amoghbhushan @TeslaClubIN @WholeMarsBlog @MKB...</td>\n",
              "      <td>130</td>\n",
              "      <td>3072</td>\n",
              "      <td>0.200000</td>\n",
              "    </tr>\n",
              "    <tr>\n",
              "      <th>15</th>\n",
              "      <td>1311931936261263360</td>\n",
              "      <td>elonmusk</td>\n",
              "      <td>@TeslaClubIN @WholeMarsBlog @MKBHD Next year f...</td>\n",
              "      <td>1290</td>\n",
              "      <td>7245</td>\n",
              "      <td>0.250000</td>\n",
              "    </tr>\n",
              "    <tr>\n",
              "      <th>16</th>\n",
              "      <td>1311928474479792129</td>\n",
              "      <td>elonmusk</td>\n",
              "      <td>@tobyliiiiiiiiii @RationalEtienne @SPEXcast @W...</td>\n",
              "      <td>546</td>\n",
              "      <td>5087</td>\n",
              "      <td>0.000000</td>\n",
              "    </tr>\n",
              "    <tr>\n",
              "      <th>17</th>\n",
              "      <td>1311927387421106176</td>\n",
              "      <td>elonmusk</td>\n",
              "      <td>@RationalEtienne @SPEXcast @William_M_Brown @P...</td>\n",
              "      <td>55</td>\n",
              "      <td>1542</td>\n",
              "      <td>0.330000</td>\n",
              "    </tr>\n",
              "    <tr>\n",
              "      <th>18</th>\n",
              "      <td>1311926507003088896</td>\n",
              "      <td>elonmusk</td>\n",
              "      <td>@SPEXcast @William_M_Brown @RationalEtienne @P...</td>\n",
              "      <td>23</td>\n",
              "      <td>1106</td>\n",
              "      <td>0.800000</td>\n",
              "    </tr>\n",
              "    <tr>\n",
              "      <th>19</th>\n",
              "      <td>1311925958325211136</td>\n",
              "      <td>elonmusk</td>\n",
              "      <td>@William_M_Brown @RationalEtienne @PPathole @t...</td>\n",
              "      <td>58</td>\n",
              "      <td>1321</td>\n",
              "      <td>0.127083</td>\n",
              "    </tr>\n",
              "  </tbody>\n",
              "</table>\n",
              "</div>"
            ],
            "text/plain": [
              "                     id    author  ... favorite_count  Polarity\n",
              "0   1312760295228547073  elonmusk  ...          59239  0.136364\n",
              "1   1312755779951226880  elonmusk  ...         156371  0.016667\n",
              "2   1312749532933877761  elonmusk  ...           6138  0.350000\n",
              "3   1312591262747299841  elonmusk  ...           1172  0.000000\n",
              "4   1312545997499719680  elonmusk  ...         474128  0.200000\n",
              "5   1312544132380778496  elonmusk  ...         167800  0.000000\n",
              "6   1312253928667410432  elonmusk  ...           3335  0.000000\n",
              "7   1312252573575860226  elonmusk  ...           2491  0.100000\n",
              "8   1312251818731167744  elonmusk  ...           5477  0.187500\n",
              "9   1312250543553744896  elonmusk  ...           1438  0.250000\n",
              "10  1312249542125842434  elonmusk  ...          23612  0.000000\n",
              "11  1312175510244356096  elonmusk  ...          72109  0.000000\n",
              "12  1312092581933641729  elonmusk  ...           1984  0.500000\n",
              "13  1312085524572639233  elonmusk  ...          14302  0.200000\n",
              "14  1311932353879646209  elonmusk  ...           3072  0.200000\n",
              "15  1311931936261263360  elonmusk  ...           7245  0.250000\n",
              "16  1311928474479792129  elonmusk  ...           5087  0.000000\n",
              "17  1311927387421106176  elonmusk  ...           1542  0.330000\n",
              "18  1311926507003088896  elonmusk  ...           1106  0.800000\n",
              "19  1311925958325211136  elonmusk  ...           1321  0.127083\n",
              "\n",
              "[20 rows x 6 columns]"
            ]
          },
          "metadata": {
            "tags": []
          }
        },
        {
          "output_type": "display_data",
          "data": {
            "image/png": "[encoded data removed]",
            "text/plain": [
              "<Figure size 432x288 with 1 Axes>"
            ]
          },
          "metadata": {
            "tags": [],
            "needs_background": "light"
          }
        },
        {
          "output_type": "stream",
          "text": [
            "Do you want to save the data(Y/N) : y\n",
            "Enter file name : data\n",
            "Data added to the file...\n",
            "_________________________________________________________________\n",
            "\n",
            "1. Get tweet data by username\n",
            "2. Get tweet data by query\n",
            "3. Exit\n",
            "Enter Choice : 3\n"
          ],
          "name": "stdout"
        }
      ]
    }
  ]
}